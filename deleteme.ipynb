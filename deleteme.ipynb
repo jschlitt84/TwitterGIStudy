{
 "metadata": {
  "name": ""
 },
 "nbformat": 3,
 "nbformat_minor": 0,
 "worksheets": [
  {
   "cells": [
    {
     "cell_type": "code",
     "collapsed": false,
     "input": [
      "import nltk:\n",
      "    classifier = NaiveBayesClassifier.train(readyToSend)\n",
      "    classifier."
     ],
     "language": "python",
     "metadata": {},
     "outputs": []
    }
   ],
   "metadata": {}
  }
 ]
}